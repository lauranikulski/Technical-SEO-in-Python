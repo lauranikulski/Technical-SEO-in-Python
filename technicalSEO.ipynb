{
 "cells": [
  {
   "cell_type": "markdown",
   "metadata": {},
   "source": [
    "# Technical SEO in Python for Beginners "
   ]
  },
  {
   "cell_type": "markdown",
   "metadata": {},
   "source": [
    "👋 Hi! As a marketer, I enjoy hosting events about projects that are somewhat related to my day job. \n",
    "\n",
    "🖱️ We will look at technical SEO (search engine optimisation - of interest to digital marketers!) in Python to help analyse a website of our choice. This will help you determine if there are any areas for improvement. \n",
    "\n",
    "✒️ For illustrative purposes, I will be using my personal (non-coding related) blog to perform an SEO audit on. "
   ]
  },
  {
   "cell_type": "code",
   "execution_count": 1,
   "metadata": {},
   "outputs": [],
   "source": [
    "# import required libraries\n",
    "import requests\n",
    "from bs4 import BeautifulSoup\n",
    "import time"
   ]
  },
  {
   "cell_type": "code",
   "execution_count": 2,
   "metadata": {},
   "outputs": [],
   "source": [
    "url = 'https://theemptiesdiaries949418098.wordpress.com/'\n",
    "response = requests.get(url)"
   ]
  },
  {
   "cell_type": "code",
   "execution_count": 3,
   "metadata": {},
   "outputs": [
    {
     "name": "stdout",
     "output_type": "stream",
     "text": [
      "<Response [200]>\n"
     ]
    }
   ],
   "source": [
    "print(response)"
   ]
  },
  {
   "cell_type": "code",
   "execution_count": 4,
   "metadata": {},
   "outputs": [],
   "source": [
    "# Parse the HTML content of the page using BeautifulSoup\n",
    "soup = BeautifulSoup(response.content, 'html.parser')"
   ]
  },
  {
   "cell_type": "code",
   "execution_count": 23,
   "metadata": {},
   "outputs": [],
   "source": [
    "#print(soup)"
   ]
  },
  {
   "cell_type": "code",
   "execution_count": 6,
   "metadata": {},
   "outputs": [],
   "source": [
    "def findmetatitle(soup):\n",
    "    meta_title = soup.find('meta', {'name': 'title'})\n",
    "    if meta_title:\n",
    "        print('Meta title found: ' + meta_title['content'])\n",
    "    else:\n",
    "        print('No meta title found!')\n",
    "        "
   ]
  },
  {
   "cell_type": "code",
   "execution_count": 7,
   "metadata": {},
   "outputs": [
    {
     "name": "stdout",
     "output_type": "stream",
     "text": [
      "No meta title found!\n"
     ]
    }
   ],
   "source": [
    "findmetatitle(soup)"
   ]
  },
  {
   "cell_type": "code",
   "execution_count": 8,
   "metadata": {},
   "outputs": [],
   "source": [
    "def findmetadescription(soup):\n",
    "    meta_description = soup.find('meta', {'name': 'description'})\n",
    "    if meta_description:\n",
    "        print('Meta description found: ' + meta_description['content'])\n",
    "    else:\n",
    "        print('No meta description found')"
   ]
  },
  {
   "cell_type": "code",
   "execution_count": 9,
   "metadata": {},
   "outputs": [
    {
     "name": "stdout",
     "output_type": "stream",
     "text": [
      "Meta description found: Beauty Explored, Skincare Decoded, One Blog Post at a Time\n"
     ]
    }
   ],
   "source": [
    "findmetadescription(soup)"
   ]
  },
  {
   "cell_type": "markdown",
   "metadata": {},
   "source": [
    "Next, try to see if your site contains schema data. \n",
    ">Schema data helps search engines interpret your website more effectively, it checks for things like recipes, star ratings, prices, event dates and make a website more interesting and interactive. \n",
    "<br>\n",
    "[Source: Google Search Central: Introduction to structured data markup in Google Search](https://developers.google.com/search/docs/appearance/structured-data/intro-structured-data)\n",
    "<br>\n",
    "🔍 If you find schema interesting, do check out this article on [10Web](https://10web.io/blog/how-to-add-schema-in-wordpress/#:~:text=Schemas%20in%20WordPress%20are%20structured,often%20leading%20to%20rich%20snippets)🔍"
   ]
  },
  {
   "cell_type": "markdown",
   "metadata": {},
   "source": [
    "##### Common examples of schema\n",
    "- Product: Ideal for eCommerce websites, providing details like price, availability, and reviews.\n",
    "- Breadcrumb: Helps display a page’s navigation path in search results.\n",
    "- Person/organization: Suitable for businesses or personal brands to define attributes such as name or contact info.\n",
    "- Article: Used by blogs, news, and other informational sites to provide context about the content.\n"
   ]
  },
  {
   "cell_type": "code",
   "execution_count": 10,
   "metadata": {},
   "outputs": [],
   "source": [
    "def findmysiteschema(soup):\n",
    "    schema_tags = soup.find_all('script', attrs={'type': 'application/ld+json'})\n",
    "    if schema_tags: \n",
    "        for schema_tag in schema_tags:\n",
    "            schema_data = schema_tag.string.strip()\n",
    "            return(schema_data)\n",
    "    else:\n",
    "        return(\"No schema found\")"
   ]
  },
  {
   "cell_type": "code",
   "execution_count": 11,
   "metadata": {},
   "outputs": [
    {
     "name": "stdout",
     "output_type": "stream",
     "text": [
      "No schema found\n"
     ]
    }
   ],
   "source": [
    "print(findmysiteschema(soup))"
   ]
  },
  {
   "cell_type": "code",
   "execution_count": 12,
   "metadata": {},
   "outputs": [],
   "source": [
    "def check_page_speed():\n",
    "    url = 'https://theemptiesdiaries949418098.wordpress.com/'\n",
    "    start_time = time.time()\n",
    "    response = requests.get(url)\n",
    "    end_time = time.time()\n",
    "    page_load_time = end_time - start_time\n",
    "    # Print the page load time in seconds\n",
    "    print(f\"Page load time: {page_load_time:.2f} seconds\")\n"
   ]
  },
  {
   "cell_type": "code",
   "execution_count": 29,
   "metadata": {},
   "outputs": [
    {
     "name": "stdout",
     "output_type": "stream",
     "text": [
      "Page load time: 0.40 seconds\n"
     ]
    }
   ],
   "source": [
    "# try calling this function several times, you may get different results due to server speeds \n",
    "# being variable, depending on requests being made to the server \n",
    "# anything between 0 and 2-3 seconds is considered good\n",
    "check_page_speed()"
   ]
  },
  {
   "cell_type": "code",
   "execution_count": 14,
   "metadata": {},
   "outputs": [],
   "source": [
    "def check_ssl(url):\n",
    "    if response.status_code != 200:\n",
    "        return \"Error: Could not access the website\"\n",
    "    elif response.url.startswith('https://'):\n",
    "        return \"The website has a valid SSL certificate\"\n",
    "    else:\n",
    "        return \"The website does not have a valid SSL certificate\""
   ]
  },
  {
   "cell_type": "code",
   "execution_count": 15,
   "metadata": {},
   "outputs": [
    {
     "data": {
      "text/plain": [
       "'The website has a valid SSL certificate'"
      ]
     },
     "execution_count": 15,
     "metadata": {},
     "output_type": "execute_result"
    }
   ],
   "source": [
    "check_ssl(url)"
   ]
  },
  {
   "cell_type": "code",
   "execution_count": 18,
   "metadata": {},
   "outputs": [],
   "source": [
    "img = soup.find_all('img')\n",
    "\n",
    "def has_alt_attribute(img):\n",
    "    myattributes = []\n",
    "    for image in img:\n",
    "        if \"alt\" in image.attrs:\n",
    "            myattributes.append(image[\"alt\"]) \n",
    "        else: \n",
    "            return myattributes\n",
    "    return myattributes"
   ]
  },
  {
   "cell_type": "code",
   "execution_count": 19,
   "metadata": {},
   "outputs": [
    {
     "data": {
      "text/plain": [
       "['The Empties Diaries', '', '', '', '', '', '', '', '', '', '', '', '']"
      ]
     },
     "execution_count": 19,
     "metadata": {},
     "output_type": "execute_result"
    }
   ],
   "source": [
    "has_alt_attribute(img)"
   ]
  },
  {
   "cell_type": "markdown",
   "metadata": {},
   "source": [
    "##### To Do \n",
    "```\n",
    "1. Rewrite meta descriptions\n",
    "2. Write meta title\n",
    "3. Find schema plugins from WordPress plugin list\n",
    "4. Write alt text for my images\n",
    "```\n"
   ]
  }
 ],
 "metadata": {
  "kernelspec": {
   "display_name": "Python 3",
   "language": "python",
   "name": "python3"
  },
  "language_info": {
   "codemirror_mode": {
    "name": "ipython",
    "version": 3
   },
   "file_extension": ".py",
   "mimetype": "text/x-python",
   "name": "python",
   "nbconvert_exporter": "python",
   "pygments_lexer": "ipython3",
   "version": "3.11.0"
  }
 },
 "nbformat": 4,
 "nbformat_minor": 2
}
